{
 "cells": [
  {
   "cell_type": "markdown",
   "id": "03f30f7e-c305-4dfe-8c3c-7b8b63780871",
   "metadata": {},
   "source": [
    "# Forecasting Global Commercial Flight Volumes\n",
    "The object of this project is to predict global flight volumes using the data from [Flightradar24](https://www.flightradar24.com/). This site tracks aviation data. I obtained the dataset by navigating to \"Aviation Data\", then \"Flight tracking statistics\", and selecting \"Number of commercial flights tracked by Flightradar24, per day (UTC time)\". I downloaded the data as the file \"total-number-of-flights.csv\"."
   ]
  },
  {
   "cell_type": "markdown",
   "id": "701efd4b-aab4-4288-847e-fc92ccf277a4",
   "metadata": {},
   "source": [
    "First, let's try the Gradient Boosting Regressor to see what sort of results we can get."
   ]
  },
  {
   "cell_type": "code",
   "execution_count": 8,
   "id": "7932cf93-ddfc-4f79-b6b9-0721811210b9",
   "metadata": {
    "tags": []
   },
   "outputs": [
    {
     "name": "stdout",
     "output_type": "stream",
     "text": [
      "RMSE: 18371.799364641523\n"
     ]
    }
   ],
   "source": [
    "import pandas as pd\n",
    "from sklearn.model_selection import train_test_split\n",
    "from sklearn.ensemble import GradientBoostingRegressor\n",
    "from sklearn.metrics import mean_squared_error\n",
    "from sklearn.impute import SimpleImputer\n",
    "\n",
    "df = pd.read_csv('total-number-of-flights.csv')\n",
    "\n",
    "# Convert the 'DateTime' column to datetime format\n",
    "df['DateTime'] = pd.to_datetime(df['DateTime'], format='%Y-%m-%d')\n",
    "\n",
    "# Create a list of features\n",
    "features = ['2024 7-day moving average', '2023 7-day moving average', '2022 7-day moving average',\n",
    "            '2021 7-day moving average', '2020 7-day moving average']\n",
    "\n",
    "# Split the data into training and testing sets\n",
    "X_train, X_test, y_train, y_test = train_test_split(df[features], df['2024 Number of flights'], test_size=0.2, random_state=42)\n",
    "\n",
    "# Combine X and y into a single DataFrame\n",
    "train_data = pd.concat([X_train, y_train], axis=1)\n",
    "test_data = pd.concat([X_test, y_test], axis=1)\n",
    "\n",
    "# Remove rows with missing values\n",
    "train_data = train_data.dropna()\n",
    "test_data = test_data.dropna()\n",
    "\n",
    "# Separate X and y after removing missing values\n",
    "X_train = train_data[features]\n",
    "y_train = train_data['2024 Number of flights']\n",
    "X_test = test_data[features]\n",
    "y_test = test_data['2024 Number of flights']\n",
    "\n",
    "# Interpolate missing values in the feature data\n",
    "X_train = X_train.interpolate()\n",
    "X_test = X_test.interpolate()\n",
    "\n",
    "# Create and train the model\n",
    "model = GradientBoostingRegressor(n_estimators=100, max_depth=3, random_state=42)\n",
    "model.fit(X_train, y_train)\n",
    "\n",
    "# Make predictions on the test set\n",
    "y_pred = model.predict(X_test)\n",
    "\n",
    "# Calculate the root mean squared error (RMSE)\n",
    "rmse = mean_squared_error(y_test, y_pred, squared=False)\n",
    "print(f'RMSE: {rmse}')"
   ]
  },
  {
   "cell_type": "code",
   "execution_count": 10,
   "id": "2622911c-2796-466f-896d-d7841f458207",
   "metadata": {
    "tags": []
   },
   "outputs": [
    {
     "name": "stdout",
     "output_type": "stream",
     "text": [
      "5% Prediction Interval: [171911.77340435 160984.34991484 195075.48225396 194556.36258067\n",
      " 200324.04864245 213827.05039048 180827.56428168 188576.68391388\n",
      " 174664.07441908 219289.97732204 163569.87769156 185973.38582351\n",
      " 168591.61721805 202416.09734133 172029.93071468 205303.03337121\n",
      " 180465.60874014 167492.2140199  170960.32084694 202384.45762241\n",
      " 195717.83769351 187611.10731346 176181.42424191 181483.88025032\n",
      " 199093.54333186 177713.54048413 192007.8746085  192126.14877613\n",
      " 179829.10090883 186291.70591412 205834.89857458 190129.10311997\n",
      " 185682.84166809]\n",
      "25% Prediction Interval: [175459.0314366  168544.16876889 199623.40364192 198991.63142151\n",
      " 206488.98523021 229074.05556246 185597.69017547 195983.41872951\n",
      " 183237.74725519 221287.51381675 167927.2733202  194366.41660527\n",
      " 171337.7720302  208521.33034303 180594.80280485 216980.1661379\n",
      " 185551.6299123  170634.34087093 178115.78713412 207677.33989168\n",
      " 202104.67041528 195571.00260433 185120.95527749 189556.74156495\n",
      " 206227.64294107 187061.51924068 197799.49077051 199381.47971907\n",
      " 182320.07084947 194931.09785625 209010.36658006 197836.04269705\n",
      " 198924.36289504]\n",
      "50% Prediction Interval: [178897.83247757 171686.91923391 203906.44901161 201234.62096074\n",
      " 223017.9531919  241422.84256659 189867.94758419 199194.38717036\n",
      " 187053.7073126  222466.40961742 170884.21413739 199951.19639825\n",
      " 174084.45637812 213575.68637316 191753.52366576 226981.75862169\n",
      " 191725.51896649 173502.95975757 182910.30272981 212693.33468632\n",
      " 207512.25361832 201280.82882386 191197.5403108  197352.19001614\n",
      " 211518.08358477 191562.80418693 201722.11926933 205515.09003158\n",
      " 184737.93472203 200710.33515715 212294.33482567 206540.21016826\n",
      " 207954.38879782]\n",
      "75% Prediction Interval: [183696.5962526  174041.32089136 208673.63921142 205459.07679181\n",
      " 236954.49594472 247081.7187422  195821.32135095 202787.75625246\n",
      " 190580.55420018 224369.03405351 174952.91367234 205218.12600839\n",
      " 176879.17748927 219111.69083082 202174.40148009 233601.38140494\n",
      " 199598.15644976 176367.50709021 188046.75370321 218804.54826822\n",
      " 211982.62835018 206807.15238467 195087.88441195 205855.09222738\n",
      " 217507.65950766 195211.89341844 206904.83893086 211650.27836282\n",
      " 188398.86739103 205379.76507793 248185.79530383 214008.74310224\n",
      " 217200.47945485]\n",
      "95% Prediction Interval: [194340.32507688 179623.67928628 213310.29170331 213200.79891606\n",
      " 250757.78585021 253506.93125296 206775.73916304 211857.77306801\n",
      " 195339.05419565 228730.46226529 183647.48668926 210890.91710646\n",
      " 181841.19660868 232456.98726899 210499.80051648 238400.99494303\n",
      " 208964.8556645  180895.64826292 197089.884182   232580.06774333\n",
      " 218718.54338653 213132.97383466 200384.19245225 213308.06385748\n",
      " 222376.15878099 199535.55093391 214616.81797433 218669.33138817\n",
      " 209016.66851704 210871.06368991 253447.60711204 219768.82136099\n",
      " 223995.93261033]\n"
     ]
    }
   ],
   "source": [
    "import numpy as np\n",
    "from sklearn.utils import resample\n",
    "\n",
    "# Define the number of bootstrap samples\n",
    "n_bootstraps = 1000\n",
    "\n",
    "# Initialize arrays to store bootstrap predictions\n",
    "bootstrap_predictions = np.zeros((n_bootstraps, len(y_test)))\n",
    "\n",
    "# Perform bootstrapping\n",
    "for i in range(n_bootstraps):\n",
    "    # Resample the training data with replacement\n",
    "    indices = resample(range(len(X_train)), replace=True, n_samples=len(X_train))\n",
    "    X_train_bootstrap = X_train.iloc[indices]\n",
    "    y_train_bootstrap = y_train.iloc[indices]\n",
    "\n",
    "    # Fit the model on the bootstrapped data\n",
    "    model.fit(X_train_bootstrap, y_train_bootstrap)\n",
    "\n",
    "    # Make predictions on the test set\n",
    "    bootstrap_predictions[i] = model.predict(X_test)\n",
    "\n",
    "# Calculate the prediction intervals\n",
    "prediction_intervals = np.percentile(bootstrap_predictions, [5, 25, 50, 75, 95], axis=0)\n",
    "\n",
    "# Print the prediction intervals\n",
    "for i, level in enumerate([5, 25, 50, 75, 95]):\n",
    "    print(f'{level}% Prediction Interval: {prediction_intervals[i]}')"
   ]
  },
  {
   "cell_type": "code",
   "execution_count": 20,
   "id": "fa36b235-bb42-4194-bc14-a5cccc62bb24",
   "metadata": {
    "tags": []
   },
   "outputs": [
    {
     "name": "stdout",
     "output_type": "stream",
     "text": [
      "Forecasted number of flights on 2024-05-31: 183357.83603337148\n"
     ]
    }
   ],
   "source": [
    "# Impute missing values with the mean\n",
    "last_row = df[features].iloc[-1:].fillna(df[features].mean())\n",
    "\n",
    "# Create a DataFrame with the forecast date and feature values\n",
    "forecast_date = pd.to_datetime('2024-05-31')\n",
    "forecast_data = pd.DataFrame({'DateTime': [forecast_date]})\n",
    "forecast_data = forecast_data.join(last_row.reset_index(drop=True), how='left')\n",
    "\n",
    "# Make the forecast\n",
    "forecast_value = model.predict(forecast_data[features])[0]\n",
    "print(f'Forecasted number of flights on {forecast_date.date()}: {forecast_value}')"
   ]
  },
  {
   "cell_type": "markdown",
   "id": "45046310-6416-4d50-a1cd-f03df6167a18",
   "metadata": {},
   "source": [
    "This number looks low considering May 2024 has been trending around 220,000 commercial flights per day. Historic data shows a small increase in these flights throughout the month. So let's look at some confidence intervals based on the mean and median."
   ]
  },
  {
   "cell_type": "code",
   "execution_count": 16,
   "id": "bfb1026a-d32f-4fbb-acc6-8bc71796493f",
   "metadata": {
    "tags": []
   },
   "outputs": [
    {
     "name": "stdout",
     "output_type": "stream",
     "text": [
      "Mean Prediction Intervals:\n",
      "5% Prediction Interval: 186937.18\n",
      "25% Prediction Interval: 193692.12\n",
      "50% Prediction Interval: 199294.25\n",
      "75% Prediction Interval: 205709.13\n",
      "95% Prediction Interval: 213410.68\n",
      "\n",
      "Median Prediction Intervals:\n",
      "5% Prediction Interval: 186291.71\n",
      "25% Prediction Interval: 195571.00\n",
      "50% Prediction Interval: 200710.34\n",
      "75% Prediction Interval: 205459.08\n",
      "95% Prediction Interval: 213132.97\n"
     ]
    }
   ],
   "source": [
    "import numpy as np\n",
    "\n",
    "# Convert the prediction intervals to a NumPy array\n",
    "prediction_intervals = np.array(prediction_intervals)\n",
    "\n",
    "# Calculate the mean of each prediction interval\n",
    "mean_intervals = np.mean(prediction_intervals, axis=1)\n",
    "print(\"Mean Prediction Intervals:\")\n",
    "print(f\"5% Prediction Interval: {mean_intervals[0]:.2f}\")\n",
    "print(f\"25% Prediction Interval: {mean_intervals[1]:.2f}\")\n",
    "print(f\"50% Prediction Interval: {mean_intervals[2]:.2f}\")\n",
    "print(f\"75% Prediction Interval: {mean_intervals[3]:.2f}\")\n",
    "print(f\"95% Prediction Interval: {mean_intervals[4]:.2f}\")\n",
    "\n",
    "# Calculate the median of each prediction interval\n",
    "median_intervals = np.median(prediction_intervals, axis=1)\n",
    "print(\"\\nMedian Prediction Intervals:\")\n",
    "print(f\"5% Prediction Interval: {median_intervals[0]:.2f}\")\n",
    "print(f\"25% Prediction Interval: {median_intervals[1]:.2f}\")\n",
    "print(f\"50% Prediction Interval: {median_intervals[2]:.2f}\")\n",
    "print(f\"75% Prediction Interval: {median_intervals[3]:.2f}\")\n",
    "print(f\"95% Prediction Interval: {median_intervals[4]:.2f}\")"
   ]
  },
  {
   "cell_type": "markdown",
   "id": "b78b60e6-3f12-409f-9203-6c37bd96a90c",
   "metadata": {},
   "source": [
    "That looks a little closer to the expected prediction, but there are some more models to make and try. SARIMA can show us seasonal trends."
   ]
  },
  {
   "cell_type": "code",
   "execution_count": 48,
   "id": "b7712692-06d5-45f9-8efc-d774f8ac6d9f",
   "metadata": {
    "tags": []
   },
   "outputs": [
    {
     "name": "stdout",
     "output_type": "stream",
     "text": [
      "Last observed date: 2024-12-31\n",
      "Found rows beyond May 9, 2024. Cleaning the data...\n",
      "Updated last observed date: 2024-05-09\n",
      "ADF Statistic: -0.269665\n",
      "p-value: 0.929692\n"
     ]
    },
    {
     "data": {
      "image/png": "[encoded data removed]",
      "text/plain": [
       "<Figure size 1200x800 with 2 Axes>"
      ]
     },
     "metadata": {},
     "output_type": "display_data"
    },
    {
     "name": "stdout",
     "output_type": "stream",
     "text": [
      "RUNNING THE L-BFGS-B CODE\n",
      "\n",
      "           * * *\n",
      "\n",
      "Machine precision = 2.220D-16\n",
      " N =            5     M =           10\n",
      "\n",
      "At X0         0 variables are exactly at the bounds\n",
      "\n",
      "At iterate    0    f=  1.01072D+01    |proj g|=  3.15955D-01\n",
      "\n",
      "At iterate    5    f=  9.96031D+00    |proj g|=  3.54502D-02\n",
      "\n",
      "At iterate   10    f=  9.94426D+00    |proj g|=  1.58286D-02\n",
      "\n",
      "At iterate   15    f=  9.94266D+00    |proj g|=  8.53709D-04\n",
      "\n",
      "           * * *\n",
      "\n",
      "Tit   = total number of iterations\n",
      "Tnf   = total number of function evaluations\n",
      "Tnint = total number of segments explored during Cauchy searches\n",
      "Skip  = number of BFGS updates skipped\n",
      "Nact  = number of active bounds at final generalized Cauchy point\n",
      "Projg = norm of the final projected gradient\n",
      "F     = final function value\n",
      "\n",
      "           * * *\n",
      "\n",
      "   N    Tit     Tnf  Tnint  Skip  Nact     Projg        F\n",
      "    5     17     23      1     0     0   2.183D-05   9.943D+00\n",
      "  F =   9.9426634009858788     \n",
      "\n",
      "CONVERGENCE: REL_REDUCTION_OF_F_<=_FACTR*EPSMCH             \n",
      "                                     SARIMAX Results                                     \n",
      "=========================================================================================\n",
      "Dep. Variable:            2024 Number of flights   No. Observations:                  130\n",
      "Model:             SARIMAX(1, 1, 1)x(1, 1, 1, 7)   Log Likelihood               -1292.546\n",
      "Date:                           Fri, 10 May 2024   AIC                           2595.092\n",
      "Time:                                   14:13:47   BIC                           2609.113\n",
      "Sample:                               01-01-2024   HQIC                          2600.787\n",
      "                                    - 05-09-2024                                         \n",
      "Covariance Type:                             opg                                         \n",
      "==============================================================================\n",
      "                 coef    std err          z      P>|z|      [0.025      0.975]\n",
      "------------------------------------------------------------------------------\n",
      "ar.L1         -0.4653      0.317     -1.470      0.142      -1.086       0.155\n",
      "ma.L1          0.6356      0.269      2.366      0.018       0.109       1.162\n",
      "ar.S.L7        0.3052      0.103      2.978      0.003       0.104       0.506\n",
      "ma.S.L7       -0.8816      0.130     -6.770      0.000      -1.137      -0.626\n",
      "sigma2      1.155e+08   4.33e-10   2.67e+17      0.000    1.16e+08    1.16e+08\n",
      "===================================================================================\n",
      "Ljung-Box (L1) (Q):                   4.49   Jarque-Bera (JB):                 3.23\n",
      "Prob(Q):                              0.03   Prob(JB):                         0.20\n",
      "Heteroskedasticity (H):               0.78   Skew:                            -0.26\n",
      "Prob(H) (two-sided):                  0.44   Kurtosis:                         2.40\n",
      "===================================================================================\n",
      "\n",
      "Warnings:\n",
      "[1] Covariance matrix calculated using the outer product of gradients (complex-step).\n",
      "[2] Covariance matrix is singular or near-singular, with condition number 3.88e+34. Standard errors may be unstable.\n",
      "Forecasted number of flights on 2024-05-31:\n",
      "  Point Forecast: 269936.0154592545\n",
      "  5.0% Confidence Interval: [264944.1727110519, 274927.8582074571]\n",
      "  25.0% Confidence Interval: [244570.37476666644, 295301.65615184256]\n",
      "  50.0% Confidence Interval: [216242.50929151027, 323629.5216269987]\n",
      "  75.0% Confidence Interval: [178361.17457794564, 361510.8563405634]\n",
      "  95.0% Confidence Interval: [113910.90423723179, 425961.1266812772]\n"
     ]
    },
    {
     "name": "stderr",
     "output_type": "stream",
     "text": [
      " This problem is unconstrained.\n"
     ]
    }
   ],
   "source": [
    "import pandas as pd\n",
    "from statsmodels.tsa.stattools import adfuller\n",
    "from statsmodels.tsa.statespace.sarimax import SARIMAX\n",
    "from statsmodels.graphics.tsaplots import plot_acf, plot_pacf\n",
    "import matplotlib.pyplot as plt\n",
    "\n",
    "# Load your data\n",
    "df = pd.read_csv('total-number-of-flights.csv')\n",
    "\n",
    "# Convert the 'DateTime' column to datetime format and set the frequency\n",
    "df['DateTime'] = pd.to_datetime(df['DateTime'], format='%Y-%m-%d')\n",
    "df = df.set_index('DateTime')\n",
    "df.index.freq = 'D'  # Set the frequency to daily\n",
    "\n",
    "# Extract the target variable\n",
    "y = df['2024 Number of flights']\n",
    "\n",
    "# Check the last observed date\n",
    "last_observed_date = y.index[-1]\n",
    "print(f'Last observed date: {last_observed_date.date()}')\n",
    "\n",
    "# Check for rows beyond May 9, 2024\n",
    "max_date = pd.to_datetime('2024-05-09')\n",
    "if last_observed_date > max_date:\n",
    "    print(f'Found rows beyond May 9, 2024. Cleaning the data...')\n",
    "    y = y.loc[:max_date]\n",
    "    last_observed_date = y.index[-1]\n",
    "    print(f'Updated last observed date: {last_observed_date.date()}')\n",
    "\n",
    "# Handle missing values\n",
    "y = y.interpolate()\n",
    "\n",
    "# Check for stationarity using the Augmented Dickey-Fuller test\n",
    "result = adfuller(y)\n",
    "print('ADF Statistic: %f' % result[0])\n",
    "print('p-value: %f' % result[1])\n",
    "\n",
    "# Plot ACF and PACF\n",
    "fig, (ax1, ax2) = plt.subplots(2, 1, figsize=(12, 8))\n",
    "plot_acf(y, lags=30, ax=ax1)\n",
    "plot_pacf(y, lags=30, ax=ax2)\n",
    "plt.tight_layout()\n",
    "plt.show()\n",
    "\n",
    "# Determine the orders of the SARIMA model based on ACF and PACF plots\n",
    "\n",
    "# Fit the SARIMA model\n",
    "model = SARIMAX(y, order=(1, 1, 1), seasonal_order=(1, 1, 1, 7))  # Adjust the orders based on your analysis\n",
    "model_fit = model.fit()\n",
    "print(model_fit.summary())\n",
    "\n",
    "# Forecast for a specific date (e.g., May 31, 2024)\n",
    "forecast_date = pd.to_datetime('2024-05-31')\n",
    "forecast_steps = (forecast_date - last_observed_date).days\n",
    "\n",
    "if forecast_steps > 0:\n",
    "    # Get the forecasted values\n",
    "    forecast = model_fit.get_forecast(steps=forecast_steps)\n",
    "    mean_forecast = forecast.predicted_mean\n",
    "\n",
    "    # Calculate confidence intervals for each desired level\n",
    "    conf_levels = [0.05, 0.25, 0.5, 0.75, 0.95]\n",
    "    conf_intervals = {}\n",
    "    for level in conf_levels:\n",
    "        conf_intervals[level] = forecast.conf_int(alpha=1-level)\n",
    "\n",
    "    # Print the forecasted value and confidence intervals for the desired date\n",
    "    print(f'Forecasted number of flights on {forecast_date.date()}:')\n",
    "    print(f'  Point Forecast: {mean_forecast.iloc[-1]}')\n",
    "    for level in conf_levels:\n",
    "        print(f'  {level*100}% Confidence Interval: [{conf_intervals[level].iloc[-1, 0]}, {conf_intervals[level].iloc[-1, 1]}]')\n",
    "else:\n",
    "    print(f'The desired forecast date {forecast_date.date()} is on or before the last observed date {last_observed_date.date()}. No forecasting needed.')"
   ]
  },
  {
   "cell_type": "code",
   "execution_count": null,
   "id": "e78b3831-92a0-473b-9720-f6946aa6e6cd",
   "metadata": {},
   "outputs": [],
   "source": []
  }
 ],
 "metadata": {
  "kernelspec": {
   "display_name": "Python 3 (ipykernel)",
   "language": "python",
   "name": "python3"
  },
  "language_info": {
   "codemirror_mode": {
    "name": "ipython",
    "version": 3
   },
   "file_extension": ".py",
   "mimetype": "text/x-python",
   "name": "python",
   "nbconvert_exporter": "python",
   "pygments_lexer": "ipython3",
   "version": "3.11.7"
  }
 },
 "nbformat": 4,
 "nbformat_minor": 5
}
